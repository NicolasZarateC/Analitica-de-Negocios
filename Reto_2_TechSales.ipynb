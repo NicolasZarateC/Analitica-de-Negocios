{
  "nbformat": 4,
  "nbformat_minor": 0,
  "metadata": {
    "colab": {
      "provenance": [],
      "authorship_tag": "ABX9TyOLADKt4Z7+sjp2eUZSh6ZL",
      "include_colab_link": true
    },
    "kernelspec": {
      "name": "python3",
      "display_name": "Python 3"
    },
    "language_info": {
      "name": "python"
    }
  },
  "cells": [
    {
      "cell_type": "markdown",
      "metadata": {
        "id": "view-in-github",
        "colab_type": "text"
      },
      "source": [
        "<a href=\"https://colab.research.google.com/github/NicolasZarateC/Analitica-de-Negocios/blob/main/Reto_2_TechSales.ipynb\" target=\"_parent\"><img src=\"https://colab.research.google.com/assets/colab-badge.svg\" alt=\"Open In Colab\"/></a>"
      ]
    },
    {
      "cell_type": "code",
      "execution_count": null,
      "metadata": {
        "colab": {
          "base_uri": "https://localhost:8080/"
        },
        "id": "nb08SCFR-48j",
        "outputId": "c33e7f0d-cfb2-4188-fcc8-fd86dd5b750c"
      },
      "outputs": [
        {
          "output_type": "stream",
          "name": "stdout",
          "text": [
            "Mounted at /content/drive\n"
          ]
        }
      ],
      "source": [
        "import numpy as np\n",
        "import pandas as pd\n",
        "\n",
        "from sklearn.tree import DecisionTreeClassifier\n",
        "from sklearn.metrics import confusion_matrix\n",
        "\n",
        "#Carga desde drive\n",
        "from google.colab import drive\n",
        "drive.mount('/content/drive')"
      ]
    },
    {
      "cell_type": "code",
      "source": [
        "nxl ='/content/drive/MyDrive/2. TechSalesReport_Int_L.xlsx'"
      ],
      "metadata": {
        "id": "yKY3j226_iwq"
      },
      "execution_count": null,
      "outputs": []
    },
    {
      "cell_type": "markdown",
      "source": [
        "1. **Descripcion Variables**\n",
        "**Business**: Esta cateogora menciona dos tipos de producto, hardware (0)o software (1)\n",
        "**Age**: Edad del empleado\n",
        "**Female**: Si el genero del empleado es mujer (1) o otro caso (0)\n",
        "**Years**: La cantidad de años que lleva un empleador en la empresa\n",
        "**College**: Si el empleado tiene un titulo (1) universitario o no (0)\n",
        "**Certificates**: La cantidad de certificados profesionales relevantes a la ocupación que tiene cada persona de la empresa\n",
        "**Feedback**: De 0 a 4 (0 siendo el más bajo y el 4 el más alto) es una puntuación de una evaluación anual otorgado por los compañeros y supervisores de los empleados\n",
        "**Salary**: El sueldo de base de cada empleado en terminos anuales\n",
        "**NPS**: Un indicador de la satisfacción del cliente (NPS = Net promoter score , o en español puntaje neto de promotor)"
      ],
      "metadata": {
        "id": "NRYwX5hdqcm-"
      }
    },
    {
      "cell_type": "code",
      "source": [
        "XDB=pd.read_excel(nxl,sheet_name=0)\n",
        "XDB.head(100)\n",
        "\n",
        "#No tomamos en cuenta estas variables\n",
        "XDB.drop(['Personality'],axis=1,inplace=True)\n",
        "XDB.drop(['Sales_Rep'],axis=1,inplace=True)\n",
        "\n",
        "#Cambiar a variables numericas\n",
        "XDB['Business']=pd.factorize(XDB['Business'])[0]\n",
        "XDB['College'] = XDB['College'].map({'Yes': 1, 'No': 0})\n",
        "\n",
        "#Selecion variables\n",
        "XD=XDB[['Business', 'Age', 'Female', 'Years', 'Certificates', 'Feedback', 'Salary', 'NPS']]\n",
        "yd=XDB[['College']]"
      ],
      "metadata": {
        "collapsed": true,
        "id": "PlE2rkv-AjGs"
      },
      "execution_count": null,
      "outputs": []
    },
    {
      "cell_type": "markdown",
      "source": [
        "2. Niveles de analisis con arbol de decision"
      ],
      "metadata": {
        "id": "JxvazFZsptku"
      }
    },
    {
      "cell_type": "code",
      "source": [
        "#Arbol de decision\n",
        "mar=DecisionTreeClassifier(criterion='gini',max_depth=4)\n",
        "mar.fit(XD,yd)\n",
        "\n",
        "from sklearn.tree import export_graphviz\n",
        "from pydotplus import graph_from_dot_data\n",
        "\n",
        "vs=['Business', 'Age', 'Female', 'Years', 'Certificates', 'Feedback', 'Salary', 'NPS']\n",
        "\n",
        "dot_data=export_graphviz(mar,feature_names=vs)\n",
        "graph=graph_from_dot_data(dot_data)\n",
        "graph.write_png('1. ArbolTechSales.png')"
      ],
      "metadata": {
        "colab": {
          "base_uri": "https://localhost:8080/"
        },
        "collapsed": true,
        "id": "8RfpNrNYrcEL",
        "outputId": "7beb8341-24d1-47f6-cc9c-eb15a0f7e9b2"
      },
      "execution_count": null,
      "outputs": [
        {
          "output_type": "execute_result",
          "data": {
            "text/plain": [
              "True"
            ]
          },
          "metadata": {},
          "execution_count": 69
        }
      ]
    },
    {
      "cell_type": "markdown",
      "source": [
        "3. Caracterizacion de datos (datos totales y numero de personas inscritas en la universidad y numero de personas no inscritas en la universidad)"
      ],
      "metadata": {
        "id": "eF8nFGekpyob"
      }
    },
    {
      "cell_type": "code",
      "source": [
        "#Caraterizacion datos\n",
        "from os import ctermid\n",
        "from sklearn.naive_bayes import GaussianNB\n",
        "\n",
        "#¿Cuál es el número de datos total de la base de datos?\n",
        "mnb=GaussianNB()\n",
        "mnb.fit(XD,yd)\n",
        "\n",
        "ct=mnb.class_count_\n",
        "print(\"El total de personas es:\",len(XD))\n",
        "\n",
        "#Separacion datos\n",
        "print(\"Como estan separados los datos\",ct)\n",
        "\n",
        "#Numero de personas no inscritas: 4470\n",
        "#Numero de personas inscritas: 17520"
      ],
      "metadata": {
        "colab": {
          "base_uri": "https://localhost:8080/"
        },
        "id": "JmEVUZ_l1E3N",
        "outputId": "143180be-3a57-4163-a341-f3454568b471"
      },
      "execution_count": null,
      "outputs": [
        {
          "output_type": "stream",
          "name": "stdout",
          "text": [
            "El total de personas es: 21990\n",
            "Como estan separados los datos [ 4470. 17520.]\n"
          ]
        },
        {
          "output_type": "stream",
          "name": "stderr",
          "text": [
            "/usr/local/lib/python3.11/dist-packages/sklearn/utils/validation.py:1408: DataConversionWarning: A column-vector y was passed when a 1d array was expected. Please change the shape of y to (n_samples, ), for example using ravel().\n",
            "  y = column_or_1d(y, warn=True)\n"
          ]
        }
      ]
    },
    {
      "cell_type": "markdown",
      "source": [
        "4. Nodos puros\n",
        "\n",
        "\n",
        "Mirando el árbol de decisión, viendo que no hay nodos donde el gini es igual a 0, vemos que **NO hay nodos puros en esta base de datos**."
      ],
      "metadata": {
        "id": "fbDJGTToqJ_L"
      }
    },
    {
      "cell_type": "markdown",
      "source": [
        "6. Matriz de confusión"
      ],
      "metadata": {
        "id": "bnnzjAdZtQ7W"
      }
    },
    {
      "cell_type": "code",
      "source": [
        "#Matriz Confusion\n",
        "ydp=mar.predict(XD)\n",
        "cm=confusion_matrix(yd,ydp)\n",
        "print(cm)\n",
        "\n",
        "VN=cm[0,0];FP=cm[0,1];FN=cm[1,0];VP=cm[1,1]\n",
        "\n",
        "Exactitud=(VP+VN)/(VP+VN+FP+FN)\n",
        "print('La exactitud es:\\n',Exactitud)\n",
        "Sensibilidad=VP/(VP+FN)\n",
        "print('La sensibilidad es:\\n',Sensibilidad)\n",
        "Especificidad=VN/(VN+FP)\n",
        "print('La especificidad es:\\n',Especificidad)\n",
        "Precision=VP/(VP+FP)\n",
        "print('La precision es:\\n',Precision)\n",
        "TasaError=(FP+FN)/(VP+VN+FP+FN)\n",
        "print('La tasa de error es:\\n',TasaError)\n",
        "PredNeg=VN/(VN+FN)\n",
        "print('La tasa de prediccion negativa es:\\n',PredNeg)"
      ],
      "metadata": {
        "colab": {
          "base_uri": "https://localhost:8080/"
        },
        "collapsed": true,
        "id": "iBHwQpIjw1za",
        "outputId": "9555902c-74f6-4a7e-9258-dc4b16a1f227"
      },
      "execution_count": null,
      "outputs": [
        {
          "output_type": "stream",
          "name": "stdout",
          "text": [
            "[[  114  4356]\n",
            " [   69 17451]]\n",
            "La exactitud es:\n",
            " 0.7987721691678036\n",
            "La sensibilidad es:\n",
            " 0.9960616438356165\n",
            "La especificidad es:\n",
            " 0.025503355704697986\n",
            "La precision es:\n",
            " 0.8002476269087908\n",
            "La tasa de error es:\n",
            " 0.20122783083219645\n",
            "La tasa de prediccion negativa es:\n",
            " 0.6229508196721312\n"
          ]
        }
      ]
    },
    {
      "cell_type": "markdown",
      "source": [
        "5. Pronóstico y 7. Informe de pronóstico para excel"
      ],
      "metadata": {
        "id": "SpIf7DAUq2Q_"
      }
    },
    {
      "cell_type": "code",
      "source": [
        "#Pronóstico\n",
        "XDB2=pd.read_excel(nxl,sheet_name=1)\n",
        "XDB2['Business']=pd.factorize(XDB2['Business'])[0]\n",
        "XD2=XDB2[['Business', 'Age', 'Female', 'Years', 'Certificates', 'Feedback', 'Salary', 'NPS']]\n",
        "\n",
        "#Se hace el pronostico para estas personas\n",
        "ydp2=mar.predict(XD2)\n",
        "print('El pronostico es:\\n',ydp2)\n",
        "\n",
        "#Crear el informe con la PreApr\n",
        "dfp=pd.DataFrame(np.column_stack((XD2,ydp2)))\n",
        "dfp.columns=['Business', 'Age', 'Female', 'Years', 'Certificates', 'Feedback', 'Salary', 'NPS', 'College',]\n",
        "dfp.head(10)\n",
        "dfp.to_excel('PronosticoTechSales.xlsx')\n",
        "\n",
        "print('El pronostico de los que no tienen titulo universitario son:',len(np.where(ydp2==0)[0]))\n",
        "print('El pronostico de los que si tienen titulo universitario son:',len(np.where(ydp2==1)[0]))\n",
        "\n",
        "#Debido a la predominancia de los que si tienen titulo universitario, el pronostico de los que NO da 0\n",
        "#No hay puros pero usando el de 0.075"
      ],
      "metadata": {
        "colab": {
          "base_uri": "https://localhost:8080/"
        },
        "collapsed": true,
        "id": "TbAlcxiYHMzv",
        "outputId": "88edb34a-ce6b-4d0e-d44d-025ff928622b"
      },
      "execution_count": null,
      "outputs": [
        {
          "output_type": "stream",
          "name": "stdout",
          "text": [
            "El pronostico es:\n",
            " [1 1 1 1 1 1 1 1 1 1 1 1 1 1 1 1]\n",
            "El pronostico de los que no tienen titulo universitario son: 0\n",
            "El pronostico de los que si tienen titulo universitario son: 16\n"
          ]
        }
      ]
    },
    {
      "cell_type": "markdown",
      "source": [
        "**Analisis de Resultados**\n",
        "\n",
        "\n",
        "Para la implementación del modelo de Arbol de Decisión, se tomaron un total de 9 variables, 8 variables de entrada, entre las que se destacan negocio, edad, si la persona es de genero femenino, años de trabajo en la empresa, certificados relevante, puntuación de retroalimentación, salario y puntaje neto promotor, y a la vez una variable de salida que permite evaluar si el empleado tiene o no un titulo universitario. Para la construcción del modelo  se tuvieron un total de 21990 datos divididos entre 4470 empleados sin titulo universitario y 17520. Luego de la ejecución del modelo se logró una exactitud cercana al 79% promedio, lo cual por ser más del 75% indica que la calidad del pronostico es muy buena. Es importante destacar que la precision del modelo es más del 75% (80%) y que el coeficiente de sensibilidad estuvo casi a un 100% (99%) demostrandonos otra vez el buen funcionamiento de este modelo. Igual con la tasa de error del 20%, corraboramos que se puede confiar en este modelo debido a que la predicción de los errores es baja.\n",
        "\n",
        "Además, aunque contemos con la ausencia de nodos puros, vemos que el nodo base tiene un indice gini de 0.075 que de igual manera es un número muy cercano a 0 y por eso se puede tomar como base. Llegamos a este nodo si seguimos la regla: IF Salary>=64100 and Salary>96500 and Certificates<4.5 and Feedback<3.495 con un total de 1056 empleados donde 41 no tienen titulo universitario (4%) y 1015 si tienen titulo (96%).\n",
        "\n",
        "Se ve una clara diferencia respecto a la cantidad de empleados que no tienen titulo universitario y los que si. Con un total de 21990 empleados siendo evaluados si tienen titulo universitario o no, vemos que 4470 de estos empleados no cuentan con el titulo (correspondiente a un 20%  de los datos totales) pero 17520 si tienen un titutlo (correspondiente a alrededor de 80% de los datos totales). Esta gran diferencia entre estos dos datos explica el pronostico del modelo, ya que tiene a siempre ser 1 por la brecha tan grande que hay entre los dos datos evaluados.\n"
      ],
      "metadata": {
        "id": "Qq2_RvcquHZY"
      }
    }
  ]
}