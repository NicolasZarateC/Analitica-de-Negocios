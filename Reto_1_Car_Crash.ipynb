{
  "nbformat": 4,
  "nbformat_minor": 0,
  "metadata": {
    "colab": {
      "provenance": [],
      "authorship_tag": "ABX9TyOeXSMq7SW7Bn1uPePnLUbh",
      "include_colab_link": true
    },
    "kernelspec": {
      "name": "python3",
      "display_name": "Python 3"
    },
    "language_info": {
      "name": "python"
    }
  },
  "cells": [
    {
      "cell_type": "markdown",
      "metadata": {
        "id": "view-in-github",
        "colab_type": "text"
      },
      "source": [
        "<a href=\"https://colab.research.google.com/github/NicolasZarateC/Analitica-de-Negocios/blob/main/Reto_1_Car_Crash.ipynb\" target=\"_parent\"><img src=\"https://colab.research.google.com/assets/colab-badge.svg\" alt=\"Open In Colab\"/></a>"
      ]
    },
    {
      "cell_type": "markdown",
      "source": [
        "**Reto 1: Car Crash** - Nicolas Zarate"
      ],
      "metadata": {
        "id": "vIWj3TowyfSi"
      }
    },
    {
      "cell_type": "code",
      "execution_count": null,
      "metadata": {
        "id": "-_itZc1kuODK"
      },
      "outputs": [],
      "source": [
        "import numpy as np\n",
        "import pandas as pd"
      ]
    },
    {
      "cell_type": "code",
      "source": [
        "nxl= \"/content/sample_data/1. BD2_CarCrash_Int.xlsx\"\n",
        "XDB=pd.read_excel(nxl)\n",
        "\n",
        "XDB=XDB[['County','Weekday','ViolCat','ClearWeather','Month','CrashType','Highway','Daylight',]]\n",
        "\n",
        "#Filtrar para que sea solo de SAN FRANCISCO\n",
        "filtered_data = XDB[XDB['County'] == 'SAN FRANCISCO']\n",
        "XDB = filtered_data\n",
        "XDB['CrashType']=pd.factorize(XDB['CrashType'])[0] #Para pasar las letras a numeros de CrashType\n"
      ],
      "metadata": {
        "collapsed": true,
        "id": "Z8D9tSMay55a"
      },
      "execution_count": null,
      "outputs": []
    },
    {
      "cell_type": "code",
      "source": [
        "#Organizar Datos\n",
        "XD=XDB[['Weekday','ViolCat','ClearWeather','Month','CrashType','Daylight',]]\n",
        "yd=XDB[['Highway']]\n"
      ],
      "metadata": {
        "collapsed": true,
        "id": "Z2u62DxiE9CZ"
      },
      "execution_count": null,
      "outputs": []
    },
    {
      "cell_type": "code",
      "source": [
        "from os import ctermid\n",
        "from sklearn.naive_bayes import GaussianNB"
      ],
      "metadata": {
        "id": "yUjc9ath6XOf"
      },
      "execution_count": null,
      "outputs": []
    },
    {
      "cell_type": "markdown",
      "source": [
        "**Preguntas:**"
      ],
      "metadata": {
        "id": "R2bbwgp03DPC"
      }
    },
    {
      "cell_type": "code",
      "source": [
        "#¿Cuál es el número de datos total de la base de datos?\n",
        "mnb=GaussianNB()\n",
        "mnb.fit(XD,yd)\n",
        "\n",
        "ct=mnb.class_count_\n",
        "print(\"El total de los datos es:\",len(XD))\n",
        "\n",
        "#¿Cuál es el porcentaje de los datos que hacen parte de cada una de las categorías de clasificación?\n",
        "print(\"Como estan separados los datos\",ct)\n",
        "print(\"Los datos porcentualmente estan divididos:\", ct/len(XD))\n",
        "\n",
        "u=mnb.theta_\n",
        "print(\"La media de las variables de entrada por categoria es:\\n\",u)\n",
        "std=mnb.var_\n",
        "std=np.sqrt(std)\n",
        "print(\"La desviacion estandar de las variables de entrada por categoria es:\\n\",std)\n",
        "\n",
        "#Se identifican los valores superiores e inferiores\n",
        "print(\"El limite superior de los valores:\\n\", u+std)\n",
        "print(\"El limite inferior de los valores:\\n\", u-std)\n",
        "\n",
        "#Determinar los intervalos en los cual se encuentra la variación del día de la semana para cada una de las categorías de clasificación\n",
        "#El intervalo cuando el accidente no es en carretera entre 5.835 y 1.934\n",
        "#El intervalo cuando el accidente es en carretera entre 5.942 y 1.910\n",
        "\n",
        "\n",
        "#Determinar los intervalos en los cual se encuentra la variación de la ViolCat para cada una de las categorías de clasificación\n",
        "#El intervalo cuando el accidente no es en carretera entre 10.978 y 3.936\n",
        "#El intervalo cuando el accidente es en carretera entre 6.312 y 1.988\n",
        "\n",
        "\n",
        "#Determinar el intervalo en los cuales se encuentra la variación de la Categoría de accidentes para cada una de las categorías de clasificación\n",
        "#El intervalo cuando el accidente no es en carretera entre 5.091 y 1.344\n",
        "#El intervalo cuando el accidente es en carretera entre 3.336 y 1.220\n"
      ],
      "metadata": {
        "colab": {
          "base_uri": "https://localhost:8080/"
        },
        "collapsed": true,
        "id": "5dWPGTYN3FC1",
        "outputId": "8b264202-4a2a-43e5-aa39-9ab7cb38befb"
      },
      "execution_count": null,
      "outputs": [
        {
          "output_type": "stream",
          "name": "stdout",
          "text": [
            "El total de los datos es: 2081\n",
            "Como estan separados los datos [1580.  501.]\n",
            "Los datos porcentualmente estan divididos: [0.75925036 0.24074964]\n",
            "La media de las variables de entrada por categoria es:\n",
            " [[3.88417722 7.45696203 0.86265823 4.35189873 3.21772152 0.66265823]\n",
            " [3.9261477  4.1497006  0.79840319 6.69461078 2.27744511 0.62075848]]\n",
            "La desviacion estandar de las variables de entrada por categoria es:\n",
            " [[1.95062542 3.52136997 0.34420782 2.3433645  1.87371962 0.47280262]\n",
            " [2.01603723 2.16198902 0.40119266 3.44163641 1.05765448 0.48519831]]\n",
            "El limite superior de los valores:\n",
            " [[ 5.83480263 10.978332    1.20686605  6.69526323  5.09144114  1.13546084]\n",
            " [ 5.94218494  6.31168962  1.19959585 10.13624719  3.33509959  1.10595679]]\n",
            "El limite inferior de los valores:\n",
            " [[1.9335518  3.93559205 0.51845041 2.00853424 1.3440019  0.18985561]\n",
            " [1.91011047 1.98771158 0.39721054 3.25297437 1.21979063 0.13556017]]\n"
          ]
        },
        {
          "output_type": "stream",
          "name": "stderr",
          "text": [
            "/usr/local/lib/python3.11/dist-packages/sklearn/utils/validation.py:1408: DataConversionWarning: A column-vector y was passed when a 1d array was expected. Please change the shape of y to (n_samples, ), for example using ravel().\n",
            "  y = column_or_1d(y, warn=True)\n"
          ]
        }
      ]
    },
    {
      "cell_type": "code",
      "source": [
        "ydp=mnb.predict(XD)\n",
        "\n",
        "from sklearn.metrics import confusion_matrix\n",
        "cm=confusion_matrix(yd,ydp)\n",
        "print(cm)\n",
        "\n",
        "VN=cm[0,0];FP=cm[0,1];FN=cm[1,0];VP=cm[1,1]\n",
        "\n",
        "#¿Cuál es la exactitud alcanzada por el modelo?\n",
        "\n",
        "Ex=(VN+VP)/(VN+VP+FN+FP)\n",
        "print(\"La exactitud es:\", Ex)\n",
        "\n",
        "#¿Cuál es la Especificidad alcanzada por el modelo? - Indicar el intervalo en donde se ubica la cantidad de verdaderos negativo - Indicar el intervalo en donde se ubica la cantidad de verdaderos positivos\n",
        "Esp=VN/(VN+FP)\n",
        "print(\"La especificidad es:\", Esp)\n",
        "#VN es 1365 y #VP es 277\n",
        "\n",
        "#¿Cuál es la tasa de error alcanzada por el modelo?\n",
        "TE=(FN+FP)/(VN+VP+FN+FP)\n",
        "print(\"La tasa de error es:\", TE)\n",
        "\n",
        "\n",
        "#¿Cuál es la Sensibilidad alcanzada por el modelo?\n",
        "Sen=VP/(VP+FN)\n",
        "print(\"La sensibilidad es:\", Sen)\n",
        "\n",
        "\n",
        "#¿Cuál es la Precisión Alcanzada por el Modelo?\n",
        "\n",
        "pre=VP/(VP+FP)\n",
        "print(\"La precision es:\", pre)\n",
        "\n",
        "#¿Indicar la categoría a la que pertenece una persona con las siguientes características [5,1,1,3,4,0]?\n",
        "XS=[[5,1,1,3,4,0]]\n",
        "mnb.predict(XS)\n",
        "\n",
        "print(\"Un individuo con estas caracterisitcas tiene el siguiente comportamiento:\", mnb.predict(XS))"
      ],
      "metadata": {
        "colab": {
          "base_uri": "https://localhost:8080/"
        },
        "id": "XlTF2FJRoIri",
        "outputId": "6bbab25b-ba6a-4c33-b5be-f2e991bbc0eb"
      },
      "execution_count": null,
      "outputs": [
        {
          "output_type": "stream",
          "name": "stdout",
          "text": [
            "[[1365  215]\n",
            " [ 224  277]]\n",
            "La exactitud es: 0.7890437289764536\n",
            "La especificidad es: 0.8639240506329114\n",
            "La tasa de error es: 0.21095627102354636\n",
            "La sensibilidad es: 0.5528942115768463\n",
            "La precision es: 0.5630081300813008\n",
            "Un individuo con estas caracterisitcas tiene el siguiente comportamiento: [0]\n"
          ]
        },
        {
          "output_type": "stream",
          "name": "stderr",
          "text": [
            "/usr/local/lib/python3.11/dist-packages/sklearn/utils/validation.py:2739: UserWarning: X does not have valid feature names, but GaussianNB was fitted with feature names\n",
            "  warnings.warn(\n",
            "/usr/local/lib/python3.11/dist-packages/sklearn/utils/validation.py:2739: UserWarning: X does not have valid feature names, but GaussianNB was fitted with feature names\n",
            "  warnings.warn(\n"
          ]
        }
      ]
    },
    {
      "cell_type": "markdown",
      "source": [
        "**Analysis**\n",
        "\n",
        "De acuerdo con los resultados que nos da el modelo, podemos corraborar en la plataforma colab respecto al comportamiento del modelo Naive Bayes y el excel de refencia conteniendo información sobre los choques en carretera dentro de la ciudad de San Francisco. El modelo alcanzó una exactitud cercana al 79% y destaca con un promedio de especificidad del 86% y una tasa de error del 21% respecto a las otras caracteristicas que encontramos cuando un accidente pasa en carrertera o no.\n",
        "\n",
        "Con un total de 2081 choques en San Francisco, podemos ver que un 79% de los accidentes en esta ciudad no fueron en carretera y el 24% si lo fueron, esto corresponde a un total de 1580 choques por fuera y 501 dentro de una carretera probandonos que hay más choques por fuera de carretera en esta ciudad que dentro de una.\n",
        "\n",
        "Respecto a la variable días de semana y su relación con los accidentes en carretera, vemos que el intervalo cuando el accidente no es en carretera es entre 5.835 y 1.934, por otro lado el intervalo cuando el accidente es en carretera es entre 5.942 y 1.910 que corresponde a que una mayoria de accidentes pasan de martes a sabado tanto cuando pasan en una carretera o no. Cuando miramos los intervalos del nivel de impacto, vemos que cuando el accidente no es en carretera se encuentra entre 10.978 y 3.936 mientras que el de un accidente es en carretera es entre 6.312 y 1.988. Por último, mirando los limites de categoria de accidente vemos que el intervalo se encuentra entre  5.091 y 1.344  para los accidentes que no pasan en carretera y entre 3.336 y 1.220 mostrandonos que los accidentes no en carretera son golpes laterales, de extremo trasero, de costado, de golpe a objeto, o de volcadura, cuando los que son en carretera son estos mismos sin incluir el de volcadura.\n",
        "\n",
        "Con una exactitud de 79%, y una especificidad del 86% podemos ver que el modelo nos brinda una información muy exacta respecto a los datos evaluados. Además, con una tasa de error del 21%, corraboramos que se puede confiar en este modelo debido a que la predicción de los errores es baja. También vemos que el modelo nos da una sensibilidad del 55% lo cual dice que el modelo puede identificar moderadamente los accidentes que occurieron en carretera en casos positivos. Finalmente con una precision del 56%, el modelo acierta esta porcentaje de veces las predicciones positivas del modelo.\n",
        "\n",
        "Mirando mas la matriz de confusión, con un total de 1365 valores negativos vemos que el modelo clasificó esta cantidad de accidentes no ocurridos en carretera y con un 277 valores positivos vemos que el modelo nos pone correctamente accidentes ocurridos en carretera.\n",
        "\n",
        "Una persona que se chocó en San Francisco un viernes (weekday 5) mientras conducia o montaba en bicicleta bajo la influencia de alcohol odrogas (ViolCat 1), en clima despejado (ClearWheather 1), en el mes de marzo (Month 3) de costado (CrashType 4) sin luz del dia (Daylight 0) no tiende a tener un choque en carretera."
      ],
      "metadata": {
        "id": "_k1xLZz581YC"
      }
    }
  ]
}